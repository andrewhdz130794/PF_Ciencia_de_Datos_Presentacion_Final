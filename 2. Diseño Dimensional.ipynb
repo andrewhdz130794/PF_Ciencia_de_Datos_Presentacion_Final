{
 "cells": [
  {
   "cell_type": "code",
   "execution_count": 31,
   "id": "a1798218-1c68-4fd6-979d-d95957ec9ad0",
   "metadata": {
    "tags": []
   },
   "outputs": [],
   "source": [
    "import boto3\n",
    "import pandas as pd\n",
    "import numpy as np\n",
    "import configparser\n",
    "import psycopg2"
   ]
  },
  {
   "cell_type": "markdown",
   "id": "4a6fef8b-34f0-4fd3-8ba3-190032918ab6",
   "metadata": {},
   "source": [
    "## Conectar a AWS"
   ]
  },
  {
   "cell_type": "code",
   "execution_count": 32,
   "id": "65bf2bbd-42ac-4e77-aca9-63199c606381",
   "metadata": {
    "tags": []
   },
   "outputs": [
    {
     "data": {
      "text/plain": [
       "['config.cfg']"
      ]
     },
     "execution_count": 32,
     "metadata": {},
     "output_type": "execute_result"
    }
   ],
   "source": [
    "config = configparser.ConfigParser()\n",
    "config.read('config.cfg')"
   ]
  },
  {
   "cell_type": "code",
   "execution_count": 33,
   "id": "3a2d3c78-e170-45ee-b00d-b93f09937e18",
   "metadata": {
    "tags": []
   },
   "outputs": [],
   "source": [
    "aws_rds_conn = boto3.client('rds', aws_access_key_id = config.get('IAM','ACCESS_KEY'),\n",
    "                            aws_secret_access_key = config.get('IAM','SECRET_KEY'),\n",
    "                            region_name = 'us-east-2')"
   ]
  },
  {
   "cell_type": "code",
   "execution_count": 34,
   "id": "cf5f66fd-f4e7-4c64-ab52-db2451786a88",
   "metadata": {
    "tags": []
   },
   "outputs": [
    {
     "name": "stdout",
     "output_type": "stream",
     "text": [
      "Instancias disponibles: ['dbdim', 'dbtienda', 'sakila-db-pg-v']\n"
     ]
    }
   ],
   "source": [
    "rds_intances_ids = []\n",
    "\n",
    "aws_response = aws_rds_conn.describe_db_instances() # retorna un objeto [diccionario] iterable de las instancias\n",
    "\n",
    "for response in aws_response['DBInstances']:\n",
    "    rds_intances_ids.append(response['DBInstanceIdentifier'])\n",
    "\n",
    "print(f'Instancias disponibles: {rds_intances_ids}')"
   ]
  },
  {
   "cell_type": "code",
   "execution_count": 35,
   "id": "9a47d092-ce2f-4019-bfcf-83d71da46df9",
   "metadata": {
    "tags": []
   },
   "outputs": [
    {
     "name": "stdout",
     "output_type": "stream",
     "text": [
      "La instancia ya existe\n"
     ]
    }
   ],
   "source": [
    "try:\n",
    "    response = aws_rds_conn.create_db_instance(\n",
    "                                DBInstanceIdentifier=config.get('DIM','DB_INSTANCE_ID'),\n",
    "                                DBName=config.get('DIM','DB_NAME'),\n",
    "                                MasterUsername=config.get('DIM','DB_USERNAME'),\n",
    "                                MasterUserPassword=config.get('DIM','DB_PASSWORD'),\n",
    "                                Port=int(config.get('DIM','DB_PORT')),\n",
    "                                DBInstanceClass='db.t3.micro',\n",
    "                                Engine=config.get('DIM','DB_ENGINE'),\n",
    "                                PubliclyAccessible=True,\n",
    "                                AllocatedStorage=20,\n",
    "                                VpcSecurityGroupIds=[config.get('VPC','SECURITY_GROUP')],\n",
    "                            )\n",
    "    print('Base de Datos creada exitosamente!!!')\n",
    "except aws_rds_conn.exceptions.DBInstanceAlreadyExistsFault:\n",
    "    print('La instancia ya existe')\n",
    "except Exception as ex:\n",
    "    print('Error!!!',ex)"
   ]
  },
  {
   "cell_type": "markdown",
   "id": "0882c22f-6c7f-4c7b-ab2a-6da4d26ccde8",
   "metadata": {},
   "source": [
    "### Access point dimensional"
   ]
  },
  {
   "cell_type": "code",
   "execution_count": 36,
   "id": "992f2e3e-6944-41bb-9d98-28415d094cfd",
   "metadata": {
    "tags": []
   },
   "outputs": [
    {
     "name": "stdout",
     "output_type": "stream",
     "text": [
      "dbdim.cp6geq8ycm59.us-east-2.rds.amazonaws.com\n"
     ]
    }
   ],
   "source": [
    "try:  \n",
    "    instance = aws_rds_conn.describe_db_instances(DBInstanceIdentifier=config.get('DIM','DB_INSTANCE_ID'))\n",
    "    RDS_HOST_DBDIM = instance.get('DBInstances')[0].get('Endpoint').get('Address')\n",
    "    print(RDS_HOST_DBDIM)\n",
    "except Exception as ex:\n",
    "    print('Error!!!!',ex)"
   ]
  },
  {
   "cell_type": "markdown",
   "id": "e2518b24-d837-4cab-9329-2b8da951526b",
   "metadata": {},
   "source": [
    "#### Conexion a DB y creacion de tablas"
   ]
  },
  {
   "cell_type": "code",
   "execution_count": 37,
   "id": "6bfb3c1f-67e8-4522-aaaa-5922111c9855",
   "metadata": {
    "tags": []
   },
   "outputs": [],
   "source": [
    "import ddl_dimdb # py donde se encuentra el ddl"
   ]
  },
  {
   "cell_type": "code",
   "execution_count": 38,
   "id": "1da251da-4b0f-41bb-890f-447d929e0255",
   "metadata": {
    "tags": []
   },
   "outputs": [],
   "source": [
    "try:\n",
    "    db_pg_conn = psycopg2.connect(\n",
    "                            database=config.get('DIM','DB_NAME'),\n",
    "                            user=config.get('DIM','DB_USERNAME'),\n",
    "                            password=config.get('DIM','DB_PASSWORD'),\n",
    "                            port=config.get('DIM','DB_PORT'),\n",
    "                            host=RDS_HOSTNAME\n",
    "                            )\n",
    "    cursor = db_pg_conn.cursor()\n",
    "    cursor.execute(ddl_dimdb.ddl)\n",
    "    db_pg_conn.commit()\n",
    "except Exception as ex:\n",
    "    print('Error!!!',ex)"
   ]
  },
  {
   "cell_type": "code",
   "execution_count": null,
   "id": "c87c075f-a8ea-4526-b40c-a26a60dd5ebb",
   "metadata": {},
   "outputs": [],
   "source": []
  }
 ],
 "metadata": {
  "kernelspec": {
   "display_name": "Python 3 (ipykernel)",
   "language": "python",
   "name": "python3"
  },
  "language_info": {
   "codemirror_mode": {
    "name": "ipython",
    "version": 3
   },
   "file_extension": ".py",
   "mimetype": "text/x-python",
   "name": "python",
   "nbconvert_exporter": "python",
   "pygments_lexer": "ipython3",
   "version": "3.9.18"
  }
 },
 "nbformat": 4,
 "nbformat_minor": 5
}
