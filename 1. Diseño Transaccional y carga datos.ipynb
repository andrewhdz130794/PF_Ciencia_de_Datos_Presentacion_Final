{
 "cells": [
  {
   "cell_type": "code",
   "execution_count": 1,
   "id": "a1798218-1c68-4fd6-979d-d95957ec9ad0",
   "metadata": {
    "tags": []
   },
   "outputs": [],
   "source": [
    "import boto3\n",
    "import pandas as pd\n",
    "import numpy as np\n",
    "import configparser\n",
    "import psycopg2\n",
    "import mysql.connector"
   ]
  },
  {
   "cell_type": "markdown",
   "id": "4a6fef8b-34f0-4fd3-8ba3-190032918ab6",
   "metadata": {},
   "source": [
    "## Conectar a AWS"
   ]
  },
  {
   "cell_type": "code",
   "execution_count": 2,
   "id": "65bf2bbd-42ac-4e77-aca9-63199c606381",
   "metadata": {
    "tags": []
   },
   "outputs": [
    {
     "data": {
      "text/plain": [
       "['config.cfg']"
      ]
     },
     "execution_count": 2,
     "metadata": {},
     "output_type": "execute_result"
    }
   ],
   "source": [
    "config = configparser.ConfigParser()\n",
    "config.read('config.cfg')"
   ]
  },
  {
   "cell_type": "code",
   "execution_count": 3,
   "id": "3a2d3c78-e170-45ee-b00d-b93f09937e18",
   "metadata": {
    "tags": []
   },
   "outputs": [],
   "source": [
    "aws_rds_conn = boto3.client('rds', aws_access_key_id = config.get('IAM','ACCESS_KEY'),\n",
    "                            aws_secret_access_key = config.get('IAM','SECRET_KEY'),\n",
    "                            region_name = 'us-east-2')"
   ]
  },
  {
   "cell_type": "code",
   "execution_count": 4,
   "id": "cf5f66fd-f4e7-4c64-ab52-db2451786a88",
   "metadata": {
    "tags": []
   },
   "outputs": [
    {
     "name": "stdout",
     "output_type": "stream",
     "text": [
      "Instancias disponibles: ['dbdim', 'dbtienda', 'sakila-db-pg-v']\n"
     ]
    }
   ],
   "source": [
    "rds_intances_ids = []\n",
    "\n",
    "aws_response = aws_rds_conn.describe_db_instances() # retorna un objeto [diccionario] iterable de las instancias\n",
    "\n",
    "for response in aws_response['DBInstances']:\n",
    "    rds_intances_ids.append(response['DBInstanceIdentifier'])\n",
    "\n",
    "print(f'Instancias disponibles: {rds_intances_ids}')"
   ]
  },
  {
   "cell_type": "code",
   "execution_count": 5,
   "id": "9a47d092-ce2f-4019-bfcf-83d71da46df9",
   "metadata": {
    "tags": []
   },
   "outputs": [
    {
     "name": "stdout",
     "output_type": "stream",
     "text": [
      "La instancia ya existe\n"
     ]
    }
   ],
   "source": [
    "try:\n",
    "    response = aws_rds_conn.create_db_instance(\n",
    "                                DBInstanceIdentifier=config.get('DBTIENDA','DB_INSTANCE_ID'),\n",
    "                                DBName=config.get('DBTIENDA','DB_NAME'),\n",
    "                                MasterUsername=config.get('DBTIENDA','DB_USERNAME'),\n",
    "                                MasterUserPassword=config.get('DBTIENDA','DB_PASSWORD'),\n",
    "                                Port=int(config.get('DBTIENDA','DB_PORT')),\n",
    "                                DBInstanceClass='db.t3.micro',\n",
    "                                Engine=config.get('DBTIENDA','DB_ENGINE'),\n",
    "                                PubliclyAccessible=True,\n",
    "                                AllocatedStorage=20,\n",
    "                                VpcSecurityGroupIds=[config.get('VPC','SECURITY_GROUP')],\n",
    "                            )\n",
    "    print('Base de Datos creada exitosamente!!!')\n",
    "except aws_rds_conn.exceptions.DBInstanceAlreadyExistsFault:\n",
    "    print('La instancia ya existe')\n",
    "except Exception as ex:\n",
    "    print('Error!!!',ex)"
   ]
  },
  {
   "cell_type": "markdown",
   "id": "0882c22f-6c7f-4c7b-ab2a-6da4d26ccde8",
   "metadata": {},
   "source": [
    "### Access point"
   ]
  },
  {
   "cell_type": "code",
   "execution_count": 6,
   "id": "992f2e3e-6944-41bb-9d98-28415d094cfd",
   "metadata": {
    "tags": []
   },
   "outputs": [
    {
     "name": "stdout",
     "output_type": "stream",
     "text": [
      "dbtienda.cp6geq8ycm59.us-east-2.rds.amazonaws.com\n"
     ]
    }
   ],
   "source": [
    "try:  \n",
    "    instance = aws_rds_conn.describe_db_instances(DBInstanceIdentifier=config.get('DBTIENDA','DB_INSTANCE_ID'))\n",
    "    RDS_HOSTNAME = instance.get('DBInstances')[0].get('Endpoint').get('Address')\n",
    "    print(RDS_HOSTNAME)\n",
    "except Exception as ex:\n",
    "    print('Error!!!!',ex)"
   ]
  },
  {
   "cell_type": "markdown",
   "id": "1cb57eed-8311-46d5-98ab-86a5127fa20d",
   "metadata": {},
   "source": [
    "### Conexion a BD transaccional en mysql y creacion de tablas"
   ]
  },
  {
   "cell_type": "code",
   "execution_count": 99,
   "id": "6bfb3c1f-67e8-4522-aaaa-5922111c9855",
   "metadata": {
    "tags": []
   },
   "outputs": [],
   "source": [
    "import ddl_transacdb # py donde se encuentra el ddl\n",
    "#ddl_transdb.ddl"
   ]
  },
  {
   "cell_type": "code",
   "execution_count": 129,
   "id": "dd645a4c-9cf3-4829-b1a4-01d4e45873d0",
   "metadata": {
    "tags": []
   },
   "outputs": [
    {
     "data": {
      "text/plain": [
       "True"
      ]
     },
     "execution_count": 129,
     "metadata": {},
     "output_type": "execute_result"
    }
   ],
   "source": [
    "cnx = mysql.connector.connect(\n",
    "    host=RDS_HOSTNAME,\n",
    "    user=config.get('DBTIENDA','DB_USERNAME'),\n",
    "    password=config.get('DBTIENDA','DB_PASSWORD'),\n",
    "    database=config.get('DBTIENDA','DB_NAME')\n",
    ")\n",
    "# Cursor\n",
    "cursor = cnx.cursor()\n",
    "cursor.execute(ddl_transdb.ddl) # creacion de tablas\n",
    "cnx.close()\n",
    "cursor.close()"
   ]
  },
  {
   "cell_type": "markdown",
   "id": "4df62a82-2207-4a69-a953-2433d76fe3f7",
   "metadata": {},
   "source": [
    "### Ingreso de datos"
   ]
  },
  {
   "cell_type": "code",
   "execution_count": 130,
   "id": "8ebc49b2-bb2a-4448-bbc2-ee91e17b1c6b",
   "metadata": {
    "tags": []
   },
   "outputs": [],
   "source": [
    "from faker import Faker\n",
    "import random"
   ]
  },
  {
   "cell_type": "code",
   "execution_count": 131,
   "id": "55807c03-9814-425b-a131-40ae2d6c60cc",
   "metadata": {
    "tags": []
   },
   "outputs": [],
   "source": [
    "cnx = mysql.connector.connect(\n",
    "    host=RDS_HOSTNAME,\n",
    "    user=config.get('DBTIENDA','DB_USERNAME'),\n",
    "    password=config.get('DBTIENDA','DB_PASSWORD'),\n",
    "    database=config.get('DBTIENDA','DB_NAME')\n",
    ")\n",
    "# Cursor\n",
    "cursor = cnx.cursor()"
   ]
  },
  {
   "cell_type": "code",
   "execution_count": 132,
   "id": "c322b133-a37e-464d-aec7-674aaa029402",
   "metadata": {
    "tags": []
   },
   "outputs": [],
   "source": [
    "# Crear un objeto Faker\n",
    "faker = Faker()\n",
    "\n",
    "# TABLA CATEGORIAS\n",
    "categorias = ['ALIMENTOS','JUGUETES','HOGAR','CALZADO','ROPA','DEPORTES']\n",
    "for categ in categorias:  # insertamos 6 categorias\n",
    "    nombre_categoria = categ\n",
    "    descripcion_categoria = faker.sentence()\n",
    "    estado_categoria = random.choices([0, 1], weights=[0.2,0.8])[0]  # Colocamos solo dos tipos de categorias (0 o 1)\n",
    "\n",
    "    # Query de inserción para la tabla \"categoria\"\n",
    "    sql_categoria = \"INSERT INTO categoria (nombre, descripcion, estado) VALUES (%s, %s, %s)\"\n",
    "    val_categoria = (nombre_categoria, descripcion_categoria, estado_categoria)\n",
    "\n",
    "    # Ejecutar la consulta para la tabla \"categoria\"\n",
    "    cursor.execute(sql_categoria, val_categoria)"
   ]
  },
  {
   "cell_type": "code",
   "execution_count": 133,
   "id": "8c74dd09-e048-45cd-9010-901120ec416f",
   "metadata": {
    "tags": []
   },
   "outputs": [],
   "source": [
    "# TABLA ARTICULO\n",
    "for _ in range(100):  #Insertamos 100 datos\n",
    "    idcategoria = random.randint(1, 6)  # Le colocamos hasta el 5 porque solo colocamos 5 categorias\n",
    "    codigo = faker.uuid4()[:6]  # Generamos un codigo uuid\n",
    "    nombre_articulo = faker.word()  # Le colocamos nombre\n",
    "    precio_venta = round(random.uniform(100, 1000), 2)  # Le colocamos un precio entre 100 y mil que tenga 2 decimales como maximo\n",
    "    stock = random.randint(1, 100)\n",
    "    descripcion_articulo = faker.text()  # Le colocamos la descripcion del articulo\n",
    "    imagen = faker.file_name(category='image', extension='jpg')  # Agregamos una imagen con extension jpg\n",
    "    estado_articulo = random.choice([0, 1])  # Estado aleatorio (0 o 1)\n",
    "\n",
    "    # Insertamos los datos a la base de datos\n",
    "    sql_articulo = \"INSERT INTO articulo (idcategoria, codigo, nombre, precio_venta, stock, descripcion, imagen, estado) VALUES (%s, %s, %s, %s, %s, %s, %s, %s)\"\n",
    "    val_articulo = (idcategoria, codigo, nombre_articulo, precio_venta, stock, descripcion_articulo, imagen, estado_articulo)\n",
    "\n",
    "    # Ejecutar la consulta para la tabla \"articulo\"\n",
    "    cursor.execute(sql_articulo, val_articulo)"
   ]
  },
  {
   "cell_type": "code",
   "execution_count": 134,
   "id": "897820c5-ce76-42ea-9491-0fd2f52b1873",
   "metadata": {
    "tags": []
   },
   "outputs": [],
   "source": [
    "# TABLA PERSONA\n",
    "for _ in range(10):  # Le dejamos los 10 como se establecio en la tabla ingreso (para no crear conflictos)\n",
    "    tipo_persona = faker.random_element(elements=('PERSONA', 'EMPRESA'))  # Tipo de persona ficticio\n",
    "    nombre_persona = faker.name()  # Nombre de persona ficticio\n",
    "    tipo_documento = faker.random_element(elements=('DPI', 'PASAPORTE'))  # Tipo de documento ficticio\n",
    "    num_documento = faker.unique.random_number(digits=13)  # DEJAMOS EL NUMERO COMO APARECE EN EL DPI\n",
    "    direccion_persona = faker.address()\n",
    "    telefono_persona = faker.phone_number()\n",
    "    email_persona = faker.email()\n",
    "\n",
    "    # Query de inserción para la tabla \"persona\"\n",
    "    sql_persona = \"INSERT INTO persona (tipo_persona, nombre, tipo_documento, num_documento, direccion, telefono, email) VALUES (%s, %s, %s, %s, %s, %s, %s)\"\n",
    "    val_persona = (tipo_persona, nombre_persona, tipo_documento, num_documento, direccion_persona, telefono_persona, email_persona)\n",
    "\n",
    "    # Ejecutar la consulta para la tabla \"persona\"\n",
    "    cursor.execute(sql_persona, val_persona)"
   ]
  },
  {
   "cell_type": "code",
   "execution_count": 135,
   "id": "60d52a64-162e-45bd-9b77-fe24a4d00137",
   "metadata": {
    "tags": []
   },
   "outputs": [],
   "source": [
    "# Tabla ROL\n",
    "\n",
    "roles = ['Cajero','Jefe Tienda','Gerente']\n",
    "for rol in roles:  # Lo dejamos como las categorias que colocamos a un inicio para no generar inconvenientes\n",
    "    nombre_rol = rol\n",
    "    descripcion_rol = faker.sentence()\n",
    "    estado_rol = 1  # Colocamos solo dos tipos de estados como lo hicimos inicialmente\n",
    "\n",
    "    # Query de inserción para la tabla \"rol\"\n",
    "    sql_rol = \"INSERT INTO rol (nombre, descripcion, estado) VALUES (%s, %s, %s)\"\n",
    "    val_rol = (nombre_rol, descripcion_rol, estado_rol)\n",
    "\n",
    "    # Ejecutar la consulta para la tabla \"rol\"\n",
    "    cursor.execute(sql_rol, val_rol)"
   ]
  },
  {
   "cell_type": "code",
   "execution_count": 136,
   "id": "8225b1e8-f244-477a-bd3a-63eab77aeed7",
   "metadata": {
    "tags": []
   },
   "outputs": [],
   "source": [
    "# tabla \"usuario\"\n",
    "for _ in range(10):  # Agregamos solo 10 datos para no generar inconvenientes\n",
    "    idrol_usuario = random.randint(1, 3)  # que solo esten del 1 al 3 para que no genere inconvenientes con las llaves foraneas\n",
    "    nombre_usuario = faker.name()  # Nombre de usuario ficticio\n",
    "    tipo_documento_usuario = faker.random_element(elements=('DPI', 'PASAPORTE'))  # LO DEJAMOS COMO LA TABLA ANTERIOR\n",
    "    num_documento_usuario = faker.unique.random_number(digits=13)\n",
    "    direccion_usuario = faker.address()\n",
    "    telefono_usuario = faker.phone_number()\n",
    "    email_usuario = faker.email()\n",
    "    clave_usuario = faker.password()\n",
    "    estado_usuario = random.choices([0, 1], weights=[0.2,0.8])[0]\n",
    "    \n",
    "    # Query de inserción para la tabla \"persona\"\n",
    "    sql_usuario = \"INSERT INTO usuario (idrol, nombre, tipo_documento, num_documento, direccion, telefono, email, clave, estado) VALUES (%s, %s, %s, %s, %s, %s, %s, %s, %s)\"\n",
    "    val_usuario = (idrol_usuario, nombre_usuario, tipo_documento_usuario, num_documento_usuario, direccion_usuario, telefono_usuario, email_usuario, clave_usuario, estado_usuario)\n",
    "\n",
    "    # Ejecutar la consulta para la tabla \"persona\"\n",
    "    cursor.execute(sql_usuario, val_usuario)    \n"
   ]
  },
  {
   "cell_type": "code",
   "execution_count": 137,
   "id": "3117d52d-5c65-43c0-87c3-e5d7f7663c0a",
   "metadata": {
    "tags": []
   },
   "outputs": [],
   "source": [
    "#TABLA VENTA\n",
    "for _ in range(100):\n",
    "    idcliente_venta = random.randint(1, 10)  # Lo dejamos como lo colocamos a un inicio\n",
    "    idusuario_venta = random.randint(1, 10)  # Lo dejamos como lo colocamos a un inicio\n",
    "    tipo_comprobante_venta = faker.random_element(elements=('Factura', 'Nota de Credito'))  # Tipo de comprobante ficticio\n",
    "    serie_comprobante_venta = faker.random_number(digits=5)  # Lo dejamos con la serie que declaramos arriba\n",
    "    num_comprabante_venta = faker.random_number(digits=10)  # Lo dejamos como el numero que declaramos arribla\n",
    "    fecha_venta = faker.date_time_between(start_date='-2y', end_date='now')  # Que la fecha sea de dos años en adelante\n",
    "    #impuesto_venta = round(random.uniform(0, 120), 2)  # Le colocamos el maximo de impuesto\n",
    "    #total_venta = round(random.uniform(100, 1000), 2)  # Total aleatorio\n",
    "    estado_venta = faker.random_element(elements=('Pendiente', 'Pagado'))  # Estado de venta ficticio\n",
    "\n",
    "    # Query de inserción para la tabla \"venta\"\n",
    "    sql_venta = \"INSERT INTO venta (idcliente, idusuario, tipo_comprobante, serie_comprobante, num_comprabante, fecha, impuesto, total, estado) VALUES (%s, %s, %s, %s, %s, %s, %s, %s, %s)\"\n",
    "    val_venta = (idcliente_venta, idusuario_venta, tipo_comprobante_venta, serie_comprobante_venta, num_comprabante_venta, fecha_venta, impuesto_venta, total_venta, estado_venta)\n",
    "\n",
    "    # Ejecutar la consulta para la tabla \"venta\"\n",
    "    cursor.execute(sql_venta, val_venta)\n"
   ]
  },
  {
   "cell_type": "code",
   "execution_count": 138,
   "id": "7aab0ac1-35c7-4311-b41b-3e25af4037bc",
   "metadata": {
    "tags": []
   },
   "outputs": [],
   "source": [
    "# TABLA INGRESO\n",
    "for _ in range(100):  # Inserrtamos 100 registros a la tabla\n",
    "    idproveedor = random.randint(1, 10)  # ID de proveedor ficticio\n",
    "    idusuario = random.randint(1, 10)  # ID de usuario ficticio\n",
    "    tipo_comprobante = faker.random_element(elements=('Factura', 'Nota de Credito'))  # Le colocamos los tipos de documentos\n",
    "    serie_comprobante = faker.random_number(digits=5)\n",
    "    num_comprobante = faker.random_number(digits=10)\n",
    "    fecha = faker.date_time_between(start_date='-2y', end_date='now')  # Le colocamos que los datos se encuentren dentro del 2022 al 2024\n",
    "    #impuesto = round(random.uniform(0, 120), 2) # Le colocamos el maximo del iVA\n",
    "    #total = round(random.uniform(100, 1000), 2) # Lo dejamos como en articulo\n",
    "    estado_ingreso = faker.random_element(elements=('En Bodega', 'En Tienda'))  # Estado de ingreso ficticio\n",
    "\n",
    "    # Query de inserción para la tabla \"ingreso\"\n",
    "    sql_ingreso = \"INSERT INTO ingreso (idproveedor, idusuario, tipo_comprobante, serie_comprobante, num_comprobante, fecha, impuesto, total, estado) VALUES (%s, %s, %s, %s, %s, %s, %s, %s, %s)\"\n",
    "    val_ingreso = (idproveedor, idusuario, tipo_comprobante, serie_comprobante, num_comprobante, fecha, impuesto, total, estado_ingreso)\n",
    "\n",
    "    # Ejecutar la consulta para la tabla \"ingreso\"\n",
    "    cursor.execute(sql_ingreso, val_ingreso)\n"
   ]
  },
  {
   "cell_type": "code",
   "execution_count": 139,
   "id": "b86292a2-1015-4a7a-9c12-df25685138cb",
   "metadata": {
    "tags": []
   },
   "outputs": [],
   "source": [
    "#TABLA DETALLE INGRESO\n",
    "for idingr in range(1,101):  # Lo dejamos como el anterior\n",
    "    idingreso_detalle = idingr # 1 a 100 registros\n",
    "    for registro in range(random.randint(1,4)):    \n",
    "        idarticulo_detalle = random.randint(1, 100)\n",
    "        cantidad_detalle = random.randint(1, 20)  # Cantidad ficticia\n",
    "        precio_detalle = round(random.uniform(10, 1000), 2)  # Precio ficticio\n",
    "\n",
    "        # Query de inserción para la tabla \"detalle_ingreso\"\n",
    "        sql_detalle_ingreso = \"INSERT INTO detalle_ingreso (idingreso, idarticulo, cantidad, precio) VALUES (%s, %s, %s, %s)\"\n",
    "        val_detalle_ingreso = (idingreso_detalle, idarticulo_detalle, cantidad_detalle, precio_detalle)\n",
    "\n",
    "        # Ejecutar la consulta para la tabla \"detalle_ingreso\"\n",
    "        cursor.execute(sql_detalle_ingreso, val_detalle_ingreso)\n",
    "\n",
    "# Actualizar monto total en tabla Ingreso\n",
    "cursor.execute('''UPDATE ingreso SET total = (SELECT SUM(cantidad * precio) FROM detalle_ingreso WHERE detalle_ingreso.idingreso = ingreso.idingreso) WHERE ingreso.idingreso IN (SELECT idingreso FROM detalle_ingreso);''')\n"
   ]
  },
  {
   "cell_type": "code",
   "execution_count": 140,
   "id": "585d2dd5-e154-4a6e-8f33-8a6f22288430",
   "metadata": {
    "tags": []
   },
   "outputs": [],
   "source": [
    "# TABLA DETALLE VENTA\n",
    "for idvta in range(1,101):  # Insertar 10 registros de ejemplo\n",
    "    idventa_detalle = idvta\n",
    "    for regvta in range(random.randint(1,4)):\n",
    "        idarticulo_detalle_venta = random.randint(1, 100)\n",
    "        cantidad_detalle_venta = random.randint(1, 20)\n",
    "        precio_detalle_venta = round(random.uniform(100, 1000), 2)\n",
    "        descuento_detalle_venta = round(random.uniform(0, 20), 2)\n",
    "\n",
    "        # Query de inserción para la tabla \"detalle_venta\"\n",
    "        sql_detalle_venta = \"INSERT INTO detalle_venta (idventa, idarticulo, cantidad, precio, descuento) VALUES (%s, %s, %s, %s, %s)\"\n",
    "        val_detalle_venta = (idventa_detalle, idarticulo_detalle_venta, cantidad_detalle_venta, precio_detalle_venta, descuento_detalle_venta)\n",
    "\n",
    "        # Ejecutar la consulta para la tabla \"detalle_venta\"\n",
    "        cursor.execute(sql_detalle_venta, val_detalle_venta)\n",
    "\n",
    "# actualizar monto total en tabla Venta\n",
    "cursor.execute('''UPDATE venta SET total = (SELECT SUM(cantidad * (precio-descuento)) FROM detalle_venta WHERE detalle_venta.idventa = venta.idventa) WHERE venta.idventa IN (SELECT idventa FROM detalle_venta);''')\n",
    "cnx.commit()"
   ]
  },
  {
   "cell_type": "code",
   "execution_count": 141,
   "id": "9299a4ca-e349-42ad-8c19-9b9dea4c85ae",
   "metadata": {
    "tags": []
   },
   "outputs": [
    {
     "data": {
      "text/plain": [
       "True"
      ]
     },
     "execution_count": 141,
     "metadata": {},
     "output_type": "execute_result"
    }
   ],
   "source": [
    "cnx.close()\n",
    "cursor.close()"
   ]
  },
  {
   "cell_type": "code",
   "execution_count": null,
   "id": "12f4887a-0d18-49b8-b30b-c35948c76531",
   "metadata": {},
   "outputs": [],
   "source": []
  }
 ],
 "metadata": {
  "kernelspec": {
   "display_name": "Python 3 (ipykernel)",
   "language": "python",
   "name": "python3"
  },
  "language_info": {
   "codemirror_mode": {
    "name": "ipython",
    "version": 3
   },
   "file_extension": ".py",
   "mimetype": "text/x-python",
   "name": "python",
   "nbconvert_exporter": "python",
   "pygments_lexer": "ipython3",
   "version": "3.9.18"
  }
 },
 "nbformat": 4,
 "nbformat_minor": 5
}
